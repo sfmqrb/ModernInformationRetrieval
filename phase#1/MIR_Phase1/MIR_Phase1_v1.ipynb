{
 "cells": [
  {
   "cell_type": "markdown",
   "metadata": {
    "id": "-b2UsRU4P9JF"
   },
   "source": [
    "<div style=\"direction:rtl;line-height:300%;\">\n",
    "<font face=\"XB Zar\" size=5>\n",
    "<div align=center>\n",
    "<font face=\"B Titr\" size=5>\n",
    "<p></p><p></p>\n",
    "بسمه تعالی\n",
    "<p></p>\n",
    "</font>\n",
    "<p></p>\n",
    "<font>\n",
    "<br>\n",
    "درس بازیابی پیشرفته اطلاعات\n",
    "<br>\n",
    "مدرس: دکتر سلیمانی\n",
    "</font>\n",
    "<p></p>\n",
    "<br>\n",
    "<font>\n",
    "<b>فاز اول پروژه</b>\n",
    "</font>\n",
    "<br>\n",
    "<br>\n",
    "موعد تحویل: ۲۸ اسفند ۱۳۹۹\n",
    "<br>\n",
    "<br>\n",
    "<font size=4.8>\n",
    "دستیاران آموزشی: نیما جمالی، آرمین سعادت، ایمان غلامی\n",
    "</font>\n",
    "<br>\n",
    "<br>\n",
    "<br>\n",
    "<font>\n",
    "دانشگاه صنعتی شریف\n",
    "<br>\n",
    "دانشکده مهندسی کامپیوتر\n",
    "<br>\n",
    "<br>\n",
    "</font>\n",
    "</div>\n",
    "</font>\n",
    "</div>"
   ]
  },
  {
   "cell_type": "markdown",
   "metadata": {
    "id": "y3YoNVsQR3zO"
   },
   "source": [
    "<p></p>\n",
    "<div dir=\"rtl\">\n",
    "<font face=\"XB Zar\" size=4>\n",
    "    <h1>\n",
    "    <b>مقدمه</b>\n",
    "    </h1>\n",
    "    <p></p>\n",
    "    <p></p>\n",
    "    هدف از فاز اول پروژه، طراحی و پیاده‌سازی سیستم بازیابی اطلاعات برای مجموعه دادگان تعیین شده می‌باشد.<br>\n",
    "    اولین مرحله، پیش‌پردازش مجموعه دادگان است. پس از آن نمایه‌ها با ویژگی‌های خواسته شده پیاده‌سازی می‌شود. در گام بعدی به ذخیره و بازخوانی نمایه‌ها به همراه روش‌های فشرده‌سازی پرداخته می‌شود. پس از آن تکنیک‌های اصلاح پرسمان پیاده‌سازی شده و در نهایت جستجو روی دادگان صورت می‌گیرد. همچنین در بخش آخر با پیاده‌سازی برخی معیارهای ارزیابی، عملکرد سیستم مورد سنجش قرار می‌گیرد.<br><br>\n",
    "     توضیحات مربوط به هر بخش در ادامه آمده است که اهداف، محدودیت‌ها و خواسته‌های آن بخش را مشخص می‌کند.\n",
    "     در هر بخش توابعی مشخص شده است که محتوای آن با کد نوشته شده توسط شما باید پر شود. شما می‌توانید در همین فایل، سیستم بازیابی خود را پیاده‌سازی کنید یا فایل‌های خودتان را ایمپورت کرده و از آن‌ها استفاده کنید. در هر صورت تمامی کدهای لازم را به همراه این نوت‌بوک ارسال کنید. همچنین در نظر داشته باشید که ملاک اصلی نمره‌دهی شما اجرای صحیح توابع مشخص‌شده در این نوت‌بوک می‌باشد. بنابراین از صحت اجرای نوت‌بوک خود اطمینان پیدا کنید.<br><br>\n",
    "     تنها زبان قابل قبول برای پروژه پایتون است. محدودیت استفاده از کتاب‌خانه‌های آماده در هر بخش مشخص شده است. پروژه ۱۱۵ نمره دارد که ۱۵ نمره از آن امتیازی و مربوط به بخش اصلاح پرسمان می‌باشد.\n",
    "    \n",
    "    \n",
    "</font>\n",
    "</div>\n",
    "<p></p>"
   ]
  },
  {
   "cell_type": "markdown",
   "metadata": {
    "id": "jaR5CS_khMQB"
   },
   "source": [
    "<div dir=\"rtl\">\n",
    "<font face=\"XB Zar\" size=4>\n",
    "    <h1>\n",
    "    <b>مجموعه دادگان</b>\n",
    "    </h1>\n",
    "    مجموعه دادگان مورد بررسی در این پروژه از سایت kaggle فراهم شده است. این مجموعه شامل اطلاعات ۶۰۰۰ فیلم سینمایی از سال ۱۹۰۴ تا ۲۰۱۷ است. داده‌ها در قالب فایل csv   دارای ستون‌‌های plot، title، id می‌باشد. id یک شناسه یکتا برای هر فیلم است که برای ارزیابی بهتر عملکرد شما به داده‌ها اضافه شده است و در مجموعه دادگان اصلی وجود نداشته است. همانطور که می‌دانید برای پیاده‌سازی نمایه باید به هر داکیومنت یک شناسه اختصاص بدهید. <b>شناسه مربوط به هر داکیومنت باید id ذکر شده برای آن در مجموعه دادگان باشد.</b> هر فیلم از دو بخش title و plot  تشکیل شده است که از این دو بخش در ساخت نمایه و جستجو استفاده می‌شود. plot خلاصه‌ای از طرح داستان فیلم است.<br>\n",
    "    علاوه بر مجموعه دادگان اصلی، تعدای پرسمان در اختیار شما قرار گرفته است. همچنین جواب مطلوب هر یک از این پرسمان‌ها نیز فراهم شده که طبیعتا زیرمجموعه‌ای از مجموعه دادگان است. شما باید از این پرسمان‌ها و نتیجه مورد انتظار هر کدام برای ارزیابی سامانه خود استفاده کنید.\n",
    "    پرسمان‌ها و شناسه فیلم‌های بازیابی شده مورد انتظار از هر پرسمان در فایل validation.json آمده است. توضیحات بیشتر در رابطه با استفاده از این فایل در بخش ارزیابی آمده است.\n",
    "</font>\n",
    "</div>"
   ]
  },
  {
   "cell_type": "markdown",
   "metadata": {
    "id": "PxNntHofmHHH"
   },
   "source": [
    "<div dir=\"rtl\">\n",
    "<font face=\"XB Zar\" size=4>\n",
    "    <h1>\n",
    "    <b>پیش‌پردازش و آماده‌سازی داده‌ها (۱۵ نمره)</b>\n",
    "    </h1>\n",
    "    در این بخش ابتدا داده‌ها را از فایل بخوانید. برای آماده‌سازی متن می‌توانید از کتاب‌خانه‌های آماده استفاده کنید. یکی از کتاب‌خانه‌های معروف برای این کار <a href=\"https://www.nltk.org/\">NLTK</a> است اما در انتخاب روش پیاده‌سازی این بخش مختارید. برای این بخش باید تابع ()prepare_text را تکمیل کنید. این تابع یک متن انگلیسی ورودی گرفته و توکن‌‌های مربوط به آن‌را در قالب یک لیست خروجی می‌دهد. متن ورودی در عمل تایتل یا طرح داستان هر فیلم است. دقت کنید که لیست خروجی شامل تعدادی توکن است که عملیات case folding، stemming و lemmatization روی آن‌ها اجرا شده است. در ضمن علائم نگارشی نباید به عنوان توکن در نظر گرفته شود. در کد زیر یک نمونه ورودی و خروجی نمایش داده شده است. با توجه به نحوه پیاده‌سازی انواع بازگردانی به ریشه قابل قبول است.\n",
    "</font>\n",
    "</div>"
   ]
  },
  {
   "cell_type": "markdown",
   "metadata": {},
   "source": [
    "# سورت کردن پس از دیلیت و اد داک ها یادت نره\n",
    "# باید زمانش رو کم تر بکنی حتما\n"
   ]
  },
  {
   "cell_type": "code",
   "execution_count": 29,
   "metadata": {},
   "outputs": [
    {
     "data": {
      "text/plain": [
       "6000"
      ]
     },
     "execution_count": 29,
     "metadata": {},
     "output_type": "execute_result"
    }
   ],
   "source": [
    "import pandas as pd\n",
    "import numpy as np\n",
    "import nltk\n",
    "import string\n",
    "from nltk.tokenize import word_tokenize\n",
    "from nltk.stem import PorterStemmer \n",
    "from nltk.stem import WordNetLemmatizer \n",
    "from nltk.stem import LancasterStemmer\n",
    "from nltk.corpus import brown\n",
    "from collections import defaultdict\n",
    "import nltk.tag\n",
    "import json\n",
    "import os\n",
    "import sys \n",
    "from array import array\n",
    "\n",
    "df = pd.read_csv(\"movies.csv\")\n",
    "df.loc[:,'id'].count()"
   ]
  },
  {
   "cell_type": "code",
   "execution_count": 30,
   "metadata": {},
   "outputs": [],
   "source": [
    "from nltk.corpus import wordnet\n",
    "\n",
    "def get_word_pos(tag):\n",
    "    if tag.startswith('J'):\n",
    "        return wordnet.ADJ\n",
    "    \n",
    "    elif tag.startswith('V'):\n",
    "        return wordnet.VERB\n",
    "    \n",
    "    elif tag.startswith('N'):\n",
    "        return wordnet.NOUN\n",
    "    \n",
    "    elif tag.startswith('R'):\n",
    "        return wordnet.ADV\n",
    "    \n",
    "    return wordnet.NOUN"
   ]
  },
  {
   "cell_type": "code",
   "execution_count": 31,
   "metadata": {},
   "outputs": [],
   "source": [
    "def get_initial_words(df_raw_text):\n",
    "    initial_words = set()\n",
    "    \n",
    "    for index, row in df_raw_text.iterrows():\n",
    "        raw_text = str(row['title'])\n",
    "        raw_text = str(row['plot'])\n",
    "        tokens = word_tokenize(raw_text)\n",
    "        tokens = list(filter(lambda token: token not in string.punctuation, tokens))\n",
    "        tokens = [t.lower() for t in tokens]   \n",
    "        for term in tokens:\n",
    "            initial_words.add(term)\n",
    "    return initial_words\n",
    "\n",
    "initial_words = get_initial_words(df)"
   ]
  },
  {
   "cell_type": "code",
   "execution_count": 32,
   "metadata": {
    "colab": {
     "base_uri": "https://localhost:8080/"
    },
    "id": "9aa16Puk-if0",
    "outputId": "2e6a2c95-41d5-4146-a27b-5ceba034e291"
   },
   "outputs": [
    {
     "name": "stdout",
     "output_type": "stream",
     "text": [
      "['sajad', 'be', 'fir']\n"
     ]
    }
   ],
   "source": [
    "def prepare_text(raw_text):\n",
    "    \n",
    "    punc_ls = string.punctuation\n",
    "    punc_ls = punc_ls + '–'\n",
    "    \n",
    "    tokens = word_tokenize(raw_text)\n",
    "    tokens = list(filter(lambda token: token not in punc_ls, tokens)) \n",
    "\n",
    "    tagged = nltk.pos_tag(tokens)\n",
    "    \n",
    "    lemmatizer = WordNetLemmatizer() \n",
    "    ls = LancasterStemmer()\n",
    "    \n",
    "    tokens = [ls.stem(lemmatizer.lemmatize(tokens[i], pos=get_word_pos(tagged[i][1]))) \n",
    "              for i in range(len(tokens))]\n",
    "    \n",
    "    return tokens\n",
    "\n",
    "print(prepare_text('Sajad is _ Fire'))"
   ]
  },
  {
   "cell_type": "code",
   "execution_count": 33,
   "metadata": {},
   "outputs": [
    {
     "data": {
      "text/html": [
       "<div>\n",
       "<style scoped>\n",
       "    .dataframe tbody tr th:only-of-type {\n",
       "        vertical-align: middle;\n",
       "    }\n",
       "\n",
       "    .dataframe tbody tr th {\n",
       "        vertical-align: top;\n",
       "    }\n",
       "\n",
       "    .dataframe thead th {\n",
       "        text-align: right;\n",
       "    }\n",
       "</style>\n",
       "<table border=\"1\" class=\"dataframe\">\n",
       "  <thead>\n",
       "    <tr style=\"text-align: right;\">\n",
       "      <th></th>\n",
       "      <th>id</th>\n",
       "      <th>title</th>\n",
       "      <th>plot</th>\n",
       "    </tr>\n",
       "  </thead>\n",
       "  <tbody>\n",
       "    <tr>\n",
       "      <th>0</th>\n",
       "      <td>1</td>\n",
       "      <td>[the, suburbanit]</td>\n",
       "      <td>[the, film, be, about, a, famy, who, mov, to, ...</td>\n",
       "    </tr>\n",
       "    <tr>\n",
       "      <th>1</th>\n",
       "      <td>2</td>\n",
       "      <td>[laugh, gas]</td>\n",
       "      <td>[the, plot, be, that, of, a, black, wom, go, t...</td>\n",
       "    </tr>\n",
       "    <tr>\n",
       "      <th>2</th>\n",
       "      <td>3</td>\n",
       "      <td>[a, calamit, elop]</td>\n",
       "      <td>[a, young, coupl, decid, to, elop, aft, be, ca...</td>\n",
       "    </tr>\n",
       "    <tr>\n",
       "      <th>3</th>\n",
       "      <td>4</td>\n",
       "      <td>[the, cal, of, the, wild]</td>\n",
       "      <td>[a, whit, girl, flor, lawr, reject, a, propos,...</td>\n",
       "    </tr>\n",
       "    <tr>\n",
       "      <th>4</th>\n",
       "      <td>5</td>\n",
       "      <td>[a, lad, from, old, ireland]</td>\n",
       "      <td>[an, ir, boy, olcot, emigr, to, americ, to, es...</td>\n",
       "    </tr>\n",
       "  </tbody>\n",
       "</table>\n",
       "</div>"
      ],
      "text/plain": [
       "   id                         title  \\\n",
       "0   1             [the, suburbanit]   \n",
       "1   2                  [laugh, gas]   \n",
       "2   3            [a, calamit, elop]   \n",
       "3   4     [the, cal, of, the, wild]   \n",
       "4   5  [a, lad, from, old, ireland]   \n",
       "\n",
       "                                                plot  \n",
       "0  [the, film, be, about, a, famy, who, mov, to, ...  \n",
       "1  [the, plot, be, that, of, a, black, wom, go, t...  \n",
       "2  [a, young, coupl, decid, to, elop, aft, be, ca...  \n",
       "3  [a, whit, girl, flor, lawr, reject, a, propos,...  \n",
       "4  [an, ir, boy, olcot, emigr, to, americ, to, es...  "
      ]
     },
     "execution_count": 33,
     "metadata": {},
     "output_type": "execute_result"
    }
   ],
   "source": [
    "## un-comment the line below if you want to run the block more than once\n",
    "# df = pd.read_csv(\"movies.csv\")\n",
    "\n",
    "for index, row in df.iterrows():\n",
    "    df.iat[index, 1] = prepare_text(str(row['title']))\n",
    "    df.iat[index, 2] = prepare_text(str(row['plot']))\n",
    "\n",
    "df.head(5)"
   ]
  },
  {
   "cell_type": "markdown",
   "metadata": {
    "id": "WVhVEO6VARIa"
   },
   "source": [
    "<div dir=\"rtl\">\n",
    "<font face=\"XB Zar\" size=4>\n",
    "    <h1>\n",
    "    <b>شناسایی و حذف stop-words (۵ نمره)</b>\n",
    "    </h1>\n",
    "    این بخش باید توسط خودتان و بدون استفاده از کد آماده پیاده‌سازی شود. ترم‌های موجود در مجموعه دادگان را بر اساس تکرار آن‌ها مرتب کرده و پرتکرارترین آن‌ها را به عنوان stop-words در نظر بگیرید. اینکه چند ترم را به عنوان stop-words در نظر بگیرید به عهده خودتان است.<br>\n",
    "    با فراخوانی تابع ()get_stop_words لیست stop-words به همراه تعداد تکرار آن‌‌ها خروجی داده می‌شود.<br>\n",
    "    ترم‌های به دست آمده از این بخش نباید در نمایه حضور داشته باشند.\n",
    "</font>\n",
    "</div>"
   ]
  },
  {
   "cell_type": "code",
   "execution_count": 34,
   "metadata": {},
   "outputs": [],
   "source": [
    "from itertools import islice\n",
    "\n",
    "def take(n, iterable):\n",
    "    return list(islice(iterable, n))"
   ]
  },
  {
   "cell_type": "code",
   "execution_count": 35,
   "metadata": {
    "colab": {
     "base_uri": "https://localhost:8080/"
    },
    "id": "B-0YxOUeBGDY",
    "outputId": "b8e3476a-02af-41dc-b4a3-5c637ffd4118",
    "scrolled": true
   },
   "outputs": [
    {
     "data": {
      "text/plain": [
       "[('the', 147762), ('to', 91563), ('and', 83116), ('a', 79568), ('be', 68938)]"
      ]
     },
     "execution_count": 35,
     "metadata": {},
     "output_type": "execute_result"
    }
   ],
   "source": [
    "def get_stop_words():\n",
    "    \n",
    "    n = 50 # number of reported stop_words\n",
    "    dic = {}\n",
    "    \n",
    "    for index, row in df.iterrows():\n",
    "    \n",
    "        title_terms = row['title'] \n",
    "        plot_terms = row['plot']\n",
    "    \n",
    "        for term in title_terms:\n",
    "            dic[term] = dic.get(term, 0) + 1\n",
    "        \n",
    "        for term in plot_terms:\n",
    "            dic[term] = dic.get(term, 0) + 1\n",
    "\n",
    "    dic = dict(sorted(dic.items(), key=lambda item: item[1], reverse=True))\n",
    "    \n",
    "    n_stop_words = take(n, dic.items())\n",
    "    \n",
    "    return n_stop_words\n",
    "    \n",
    "stop_words = get_stop_words()\n",
    "stop_words[0:5]"
   ]
  },
  {
   "cell_type": "code",
   "execution_count": 36,
   "metadata": {},
   "outputs": [
    {
     "name": "stdout",
     "output_type": "stream",
     "text": [
      "   id                         title  \\\n",
      "0   1             [the, suburbanit]   \n",
      "1   2                  [laugh, gas]   \n",
      "2   3            [a, calamit, elop]   \n",
      "3   4     [the, cal, of, the, wild]   \n",
      "4   5  [a, lad, from, old, ireland]   \n",
      "\n",
      "                                                plot  \n",
      "0  [the, film, be, about, a, famy, who, mov, to, ...  \n",
      "1  [the, plot, be, that, of, a, black, wom, go, t...  \n",
      "2  [a, young, coupl, decid, to, elop, aft, be, ca...  \n",
      "3  [a, whit, girl, flor, lawr, reject, a, propos,...  \n",
      "4  [an, ir, boy, olcot, emigr, to, americ, to, es...  \n",
      "__________________________________________________________________________ \n",
      " new corpus:\n",
      "\n",
      "   id                title                                               plot\n",
      "0   1         [suburbanit]  [film, about, famy, mov, suburb, hop, quiet, l...\n",
      "1   2         [laugh, gas]  [plot, black, wom, dent, toothach, giv, laugh,...\n",
      "2   3      [calamit, elop]  [young, coupl, decid, elop, catch, midst, rom,...\n",
      "3   4          [cal, wild]  [whit, girl, flor, lawr, reject, propos, ind, ...\n",
      "4   5  [lad, old, ireland]  [ir, boy, olcot, emigr, americ, escap, desp, p...\n"
     ]
    }
   ],
   "source": [
    "\"\"\" \n",
    "\n",
    "delete stop-words from df \n",
    "\n",
    "\n",
    "\"\"\"\n",
    "\n",
    "print(df.head())\n",
    "\n",
    "stopwords_ls = [i[0] for i in stop_words]\n",
    "\n",
    "for i, row in df.iterrows():\n",
    "    ls_new =  [r for r in row[\"title\"] if r not in stopwords_ls]\n",
    "    df.iat[i, 1] = ls_new.copy()\n",
    "    ls_new =  [r for r in row[\"plot\"] if r not in stopwords_ls]\n",
    "    df.iat[i, 2] = ls_new.copy()\n",
    "\n",
    "print('__________________________________________________________________________','\\n', \"new corpus:\" '\\n')\n",
    "\n",
    "print(df.head())"
   ]
  },
  {
   "cell_type": "markdown",
   "metadata": {
    "id": "A4Z02BzNHD1z"
   },
   "source": [
    "<div dir=\"rtl\">\n",
    "<font face=\"XB Zar\" size=4>\n",
    "    <h1>\n",
    "    <b>نمایه‌سازی (۱۵ نمره)</b>\n",
    "    </h1>\n",
    "    در این بخش باید برای سامانه positional index بسازید. برای هر ترم باید مشخص باشد که آن ترم در تایتل چه فیلم‌هایی و در چه جایگاهی از تایتل هر فیلم قرار گرفته است. همچنین برای هر ترم باید مشخص باشد که آن ترم در طرح داستان چه فیلم‌هایی و در چه جایگاهی از طرح داستان هر فیلم قرار گرفته است.<br>\n",
    "     برای ارزیابی بهتر و عادلانه‌تر به ویژه برای ارزیابی بخش فشرده‌سازی، از استاندارد بیان شده در قطعه کد زیر برای ذخیره posting list هر ترم در RAM استفاده کنید.\n",
    "</font>\n",
    "</div>"
   ]
  },
  {
   "cell_type": "code",
   "execution_count": 37,
   "metadata": {
    "colab": {
     "base_uri": "https://localhost:8080/"
    },
    "id": "zJy4LiraBm8E",
    "outputId": "a740d94d-1896-4a6a-9a28-68b1cb8d32db"
   },
   "outputs": [],
   "source": [
    "def create_positional_index():\n",
    "    \"\"\"Creates positional index for both title and plot\n",
    "    \n",
    "    positional_index = {'term': [title_posting_list, plot_posting_list]}\n",
    "    posting_list = [[doc_1_id, [doc_1_occurrance_index_1, ...]], [doc_2_id, [doc_2_occurrance_index_1, ...]], ...]\n",
    "    doc_ids and doc_occurrence_indexes are sorted\n",
    "\n",
    "\n",
    "    Returns\n",
    "    -------\n",
    "    dict\n",
    "         The created positional_index\n",
    "    \"\"\"\n",
    "\n",
    "    term_dic_pos = {}\n",
    "    \n",
    "    for index, row in df.iterrows():\n",
    "        \n",
    "        index = row[\"id\"]\n",
    "        title = row[\"title\"]\n",
    "        plot = row[\"plot\"]\n",
    "        \n",
    "        for i in range(len(title)):\n",
    "            term = title[i]\n",
    "            \n",
    "            ls = []\n",
    "            ls1 = ls.copy()\n",
    "            ls2 = ls.copy()\n",
    "            \n",
    "            ls.append(ls1)\n",
    "            ls.append(ls2)\n",
    "            \n",
    "            term_dic_pos[term] = term_dic_pos.get(term, ls.copy())\n",
    "            \n",
    "            ls = term_dic_pos[term][0]\n",
    "            \n",
    "            key = False\n",
    "            for doc in ls:\n",
    "                if doc[0] == index:\n",
    "                    doc[1].append(i+1)\n",
    "                    key = True\n",
    "                    \n",
    "            if not key:\n",
    "                newDoc = [index, [i+1]]\n",
    "                ls.append(newDoc)\n",
    "\n",
    "        for i in range(len(plot)):\n",
    "            term = plot[i]\n",
    "            \n",
    "            ls = []\n",
    "            ls1 = ls.copy()\n",
    "            ls2 = ls.copy()\n",
    "            \n",
    "            ls.append(ls1)\n",
    "            ls.append(ls2)\n",
    "            \n",
    "            term_dic_pos[term] = term_dic_pos.get(term, ls.copy())\n",
    "            ls = term_dic_pos[term][1]\n",
    "            \n",
    "            key = False\n",
    "            for doc in ls:\n",
    "                if doc[0] == index:\n",
    "                    doc[1].append(i+1)\n",
    "                    key = True\n",
    "            \n",
    "            if not key:\n",
    "                newDoc = [index, [i+1]]\n",
    "                ls.append(newDoc)    \n",
    "    \n",
    "    return term_dic_pos\n",
    "\n",
    "pos_index = create_positional_index()"
   ]
  },
  {
   "cell_type": "code",
   "execution_count": 38,
   "metadata": {},
   "outputs": [],
   "source": [
    "# df.loc[3985,'plot']"
   ]
  },
  {
   "cell_type": "markdown",
   "metadata": {
    "id": "voqMrk4rg1qk"
   },
   "source": [
    "<div dir=\"rtl\">\n",
    "<font face=\"XB Zar\" size=4>\n",
    "    <h1>\n",
    "    <b>پویا‌سازی نمایه (۱۰ نمره)</b>\n",
    "    </h1>\n",
    "    نمایه ایجاد شده باید قابلیت حذف و اضافه تک داکیومنت را داشته باشد.\n",
    "    برای اضافه شدن داکیومنت، به تابع ()add_single_document یک رشته داده می‌شود که اطلاعات مربوط به داکیومنت شامل id و plot و title در آن با کاما جدا شده است. برای حذف داکیومنت نیز id آن به تابع ()remove_single_document داده می‌شود.<br>\n",
    "    تضمین می‌شود که شرط یکتا بودن id داکیومنت‌ها نقض نشود. برای مثال دو داکیومنت با شناسه یکسان به مجموعه اضافه نخواهد شد. البته ممکن است حذف شده و دوباره اضافه شود.\n",
    "</font>\n",
    "</div>"
   ]
  },
  {
   "cell_type": "code",
   "execution_count": 39,
   "metadata": {
    "id": "e1Ej2n3MB6ef"
   },
   "outputs": [],
   "source": [
    "def add_single_documnet(document):\n",
    "    \"\"\"Adds a document to positional index\n",
    "\n",
    "    Parameters\n",
    "    ----------\n",
    "    document : str\n",
    "        Comma separated string containing id,title,plot in this exact order\n",
    "    \"\"\"\n",
    "\n",
    "    # TODO: implement adding a document to the index\n",
    "    x = document.split(\",\")\n",
    "    id_ = int(x[0])\n",
    "    title = prepare_text(x[1])\n",
    "    plot = prepare_text(x[2])\n",
    "\n",
    "    title =  [r for r in title if r not in stopwords_ls]\n",
    "    plot = [r for r in plot if r not in stopwords_ls]\n",
    "\n",
    "    for term in title:\n",
    "        \n",
    "        ls = []\n",
    "        ls1 = ls.copy()\n",
    "        ls2 = ls.copy()\n",
    "        \n",
    "        ls.append(ls1)\n",
    "        ls.append(ls2)\n",
    "        \n",
    "        pos_index[term] = pos_index.get(term, ls.copy())\n",
    "        \n",
    "        ls = pos_index[term][0]\n",
    "        index = id_\n",
    "        i = title.index(term)\n",
    "        \n",
    "        key = False\n",
    "        for doc in ls:\n",
    "            if doc[0] == index:\n",
    "                doc[1].append(i+1)\n",
    "                key = True\n",
    "                \n",
    "        if not key:\n",
    "            newDoc = [index, [i+1]]\n",
    "            ls.append(newDoc) \n",
    "\n",
    "    for term in plot:\n",
    "        ls = []\n",
    "        ls1 = ls.copy()\n",
    "        ls2 = ls.copy()\n",
    "        \n",
    "        ls.append(ls1)\n",
    "        ls.append(ls2)\n",
    "        \n",
    "        pos_index[term] = pos_index.get(term, ls.copy())\n",
    "        ls = pos_index[term][1]\n",
    "        index = id_\n",
    "        i = plot.index(term)\n",
    "        \n",
    "        key = False\n",
    "        for doc in ls:\n",
    "            if doc[0] == index:\n",
    "                doc[1].append(i+1)\n",
    "                key = True\n",
    "                \n",
    "        if not key:\n",
    "            newDoc = [index, [i+1]]\n",
    "            ls.append(newDoc)  \n",
    "\n",
    "    \n",
    "    return\n",
    "\n",
    "new_document = \"7000,The Adventures of Sherlock Holmes,The picture begins with Moriarty and Holmes verbally sparring on the steps\"\n",
    "add_single_documnet(new_document)"
   ]
  },
  {
   "cell_type": "code",
   "execution_count": 40,
   "metadata": {
    "id": "DsarzVzhDoMi"
   },
   "outputs": [],
   "source": [
    "def remove_signle_document(document_id):\n",
    "    \"\"\"removes a document from positional index\n",
    "\n",
    "    Parameters\n",
    "    ----------\n",
    "    document_id : int\n",
    "        Id of the document\n",
    "    \"\"\"\n",
    "    for term in pos_index:\n",
    "        removed = []\n",
    "        \n",
    "        ls_title = pos_index[term][0]\n",
    "        ls_plot = pos_index[term][1]\n",
    "        for i in range(len(ls_title)):\n",
    "            if ls_title[i][0] == document_id:\n",
    "                removed.append(ls_title[i])\n",
    "        for removed_one in removed:\n",
    "            ls_title.remove(removed_one)\n",
    "\n",
    "        removed = []\n",
    "        for i in range(len(ls_plot)):\n",
    "            if ls_plot[i][0] == document_id:\n",
    "                removed.append(ls_plot[i])\n",
    "        for removed_one in removed:\n",
    "            ls_plot.remove(removed_one)\n",
    "\n",
    "    return\n",
    "  \n",
    "remove_signle_document(7000)"
   ]
  },
  {
   "cell_type": "markdown",
   "metadata": {
    "id": "4PBbFcmpXFKD"
   },
   "source": [
    "<div dir=\"rtl\">\n",
    "<font face=\"XB Zar\" size=4>\n",
    "    <h1>\n",
    "    <b>ذخیره و فشرده‌سازی نمایه (۲۰ نمره)</b>\n",
    "    </h1>\n",
    "    در این بخش باید توانایی ذخیره کردن نمایه و بارگذاری مجدد آن را به سامانه اضافه کنید. ذخیره‌سازی به ۳ روش صورت می‌گیرد. بدون فشرده‌سازی، فشرده‌سازی از روش gamma-code و فشرده‌سازی از روش variable-byte. روش‌های فشرده‌سازی باید توسط خودتان پیاده‌سازی شود.\n",
    "    برای ذخیره نمایه در فایل نیز از JSON  استفاده کنید.<br>\n",
    "     بخشی از نمره شما در این قسمت به میزان فشرده‌سازی نمایه اختصاص داده شده است. بنابراین پیاده‌سازی بهینه روش‌های فشرده‌سازی مهم است.\n",
    "</font>\n",
    "</div>"
   ]
  },
  {
   "cell_type": "code",
   "execution_count": 41,
   "metadata": {},
   "outputs": [],
   "source": [
    "def gamma_encoding(ls): \n",
    "    encoded_list = [to_unary(to_bin(gap))+to_bin(gap) for gap in get_gaps(ls)]\n",
    "    return \"\".join(encoded_list)\n",
    "        \n",
    "def gamma_encoding_not_using_gaps(ls): \n",
    "    encoded_list = [to_unary(to_bin(gap))+to_bin(gap) for gap in ls]\n",
    "    return \"\".join(encoded_list)\n",
    "    \n",
    "def gamma_decoding(gamma):\n",
    "    unary, binary, neck, first_list = \"\", \"\", 0, []\n",
    "    \n",
    "    while gamma != \"\":\n",
    "        neck = gamma.find(\"0\")\n",
    "        unary = gamma[:neck]\n",
    "        if unary==\"\": \n",
    "            first_list.append(1)\n",
    "            gamma = gamma[1:]\n",
    "        else:\n",
    "            binary = \"1\"+gamma[neck+1:neck+1+neck]\n",
    "            first_list.append(int(binary,2))\n",
    "            gamma  = gamma[neck+1+neck:]\n",
    "    \n",
    "    return first_list\n",
    "\n",
    "def remake_initial_list_using_gaps(gaps):\n",
    "    return [sum(gaps[:i]) for i in range(1,len(gaps)+1)]\n",
    "\n",
    "def get_gaps(ls): \n",
    "    if len(ls) == 0:\n",
    "        return []\n",
    "    return [ls[0]]+[ls[i]-ls[i-1] for i in range(1,len(ls))]\n",
    "\n",
    "def to_bin(gap): \n",
    "    return bin(gap)[3:]\n",
    "\n",
    "def to_unary(s):\n",
    "    l_gap = len(s)\n",
    "    a = \"\".join([\"1\" for i in range(l_gap)]) + '0'\n",
    "    return a\n",
    "\n",
    "def all_to_one_list(pos):\n",
    "    list_pos = []\n",
    "    for ls in pos:\n",
    "        length = len(ls)\n",
    "        list_pos.append(length)\n",
    "        list_pos.extend(ls.copy())\n",
    "    return list_pos\n",
    "\n",
    "def str2int(string):\n",
    "    if string == \"\":\n",
    "        return \"\"\n",
    "    return int(string, 2)\n",
    "\n",
    "def remake_pos_index_inner(title_doc, title_pos):\n",
    "    final_ls = []\n",
    "    while len(title_pos) != 0:\n",
    "        idx = title_pos.pop(0)\n",
    "        doc_id = title_doc.pop(0)\n",
    "        ls_pos = []\n",
    "        for i in range(idx):\n",
    "            ls_pos.append(title_pos.pop(0))\n",
    "        final_ls.append([doc_id, ls_pos.copy()])\n",
    "    return final_ls.copy()\n",
    "\n",
    "def remake_pos_index(ls_term):\n",
    "    title_doc = ls_term[0]\n",
    "    title_pos = ls_term[1]\n",
    "    \n",
    "    title = remake_pos_index_inner(title_doc, title_pos)\n",
    "    \n",
    "    plot_doc = ls_term[2]\n",
    "    plot_pos = ls_term[3]\n",
    "    \n",
    "    plot = remake_pos_index_inner(plot_doc, plot_pos)\n",
    "    return [title, plot]\n",
    "\n",
    "def convert_int_to_variable_byte(num):\n",
    "    base2_num = '1' + str(to_bin(num))\n",
    "    l = len(base2_num)\n",
    "    mod = l % 7\n",
    "    if mod != 0:\n",
    "        base2_num = '0'*(7-mod) + base2_num\n",
    "    i = 0\n",
    "    vb_bit = ''\n",
    "    for i in range(len(base2_num) // 7):\n",
    "        key = '0'\n",
    "        if i == (len(base2_num)) // 7 - 1:\n",
    "            key = '1'\n",
    "        vb_bit = vb_bit + key + base2_num[7*i: 7*(i+1)]\n",
    "    return vb_bit\n",
    "\n",
    "def convert_list_to_vbs(ls):\n",
    "    s = ''\n",
    "    for i in ls:\n",
    "        s += convert_int_to_variable_byte(i)\n",
    "    return s\n",
    "\n",
    "def vb_decoding(s):\n",
    "    key = False\n",
    "    ls = []\n",
    "    x = ''\n",
    "    for i in range(len(s) // 8):\n",
    "        if s[0] == '1':\n",
    "            key = True\n",
    "        tmp = s[0:8]\n",
    "        s = s[8:]\n",
    "        x += tmp[1:8]\n",
    "        if key:\n",
    "            ls.append(int(x, 2))\n",
    "            x = ''\n",
    "            key = False\n",
    "    return ls.copy()"
   ]
  },
  {
   "cell_type": "code",
   "execution_count": 184,
   "metadata": {
    "colab": {
     "base_uri": "https://localhost:8080/"
    },
    "id": "zYN9I4_BD178",
    "outputId": "4a11351f-d214-495e-eb3f-7dc56863cd58"
   },
   "outputs": [
    {
     "name": "stdout",
     "output_type": "stream",
     "text": [
      "10.8261\n"
     ]
    }
   ],
   "source": [
    "def store_index(path, compression_type):\n",
    "    \"\"\"Stores the index in a file\n",
    "\n",
    "    Parameters\n",
    "    ----------\n",
    "    path : str\n",
    "        Path to store the file\n",
    "\n",
    "    compression_type : str\n",
    "        Could be one of the followings:\n",
    "        - no-compression\n",
    "        - gamma-code\n",
    "        - variable-byte\n",
    "\n",
    "    Returns\n",
    "    -------\n",
    "    int\n",
    "        The size of the stored file\n",
    "    \"\"\"\n",
    "\n",
    "    # TODO: compress and store positional_index\n",
    "    \n",
    "    global pos_index_cp\n",
    "    pos_index_cp = pos_index.copy()\n",
    "    if compression_type == 'no-compression':\n",
    "        with open(path, 'w') as fp:\n",
    "            json_object = json.dump(pos_index, fp)\n",
    "            size_of_file = os.path.getsize(path)\n",
    "    \n",
    "    if compression_type == 'gamma-code':\n",
    "        with open(path, 'w') as fp:\n",
    "            \n",
    "            for term in pos_index:\n",
    "                ls_title = pos_index_cp[term][0].copy()\n",
    "                ls_plot = pos_index_cp[term][1].copy()\n",
    "                pos = [ls_title[i][1] for i in range(len(ls_title))]\n",
    "                doc = [ls_title[i][0] for i in range(len(ls_title))]\n",
    "                gamma_title_encoded = gamma_encoding(doc)\n",
    "                list_pos = all_to_one_list(pos)\n",
    "                title_pos_encoded = gamma_encoding_not_using_gaps(list_pos)\n",
    "                title_compressed = gamma_title_encoded\n",
    "                pos = [ls_plot[i][1] for i in range(len(ls_plot))]\n",
    "                doc = [ls_plot[i][0] for i in range(len(ls_plot))]\n",
    "                gamma_plot_encoded = gamma_encoding(doc)\n",
    "                list_pos = all_to_one_list(pos)\n",
    "                plot_pos_encoded = gamma_encoding_not_using_gaps(list_pos)\n",
    "                plot_compressed = gamma_plot_encoded\n",
    "                q = [str2int('1'+title_compressed), str2int('1'+title_pos_encoded), str2int('1'+plot_compressed)\n",
    "                     , str2int('1'+plot_pos_encoded)]\n",
    "                pos_index_cp[term] = q.copy()\n",
    "                \n",
    "            json_object = json.dump(pos_index_cp, fp)\n",
    "            size_of_file = os.path.getsize(path)\n",
    "    \n",
    "    if compression_type == 'variable-byte':\n",
    "        with open(path, 'w') as fp:\n",
    "            \n",
    "            for term in pos_index:\n",
    "                ls_title = pos_index_cp[term][0].copy()\n",
    "                ls_plot = pos_index_cp[term][1].copy()\n",
    "                \n",
    "                pos = [ls_title[i][1] for i in range(len(ls_title))]\n",
    "                doc = [ls_title[i][0] for i in range(len(ls_title))]\n",
    "                doc = get_gaps(doc)\n",
    "                pos = all_to_one_list(pos)\n",
    "                \n",
    "                title_compressed = convert_list_to_vbs(doc)\n",
    "                title_pos_encoded = convert_list_to_vbs(pos)\n",
    "            \n",
    "                pos = [ls_plot[i][1] for i in range(len(ls_plot))]\n",
    "                doc = [ls_plot[i][0] for i in range(len(ls_plot))]\n",
    "                doc = get_gaps(doc)\n",
    "                pos = all_to_one_list(pos)\n",
    "                \n",
    "                plot_compressed = convert_list_to_vbs(doc)\n",
    "                plot_pos_encoded = convert_list_to_vbs(pos)\n",
    "                \n",
    "                q = [str2int('1'+title_compressed), str2int('1'+title_pos_encoded), str2int('1'+plot_compressed)\n",
    "                     , str2int('1'+plot_pos_encoded)]\n",
    "                pos_index_cp[term] = q.copy()\n",
    "                \n",
    "            json_object = json.dump(pos_index_cp, fp)\n",
    "            size_of_file = os.path.getsize(path)\n",
    "    \n",
    "    return round(size_of_file / 1000000, 4)\n",
    "\n",
    "# print(store_index('pos_index1.json', \"no-compression\"))\n",
    "print(store_index('pos_index3.json', \"variable-byte\"))"
   ]
  },
  {
   "cell_type": "code",
   "execution_count": 28,
   "metadata": {
    "id": "3Dm38ZXHFQVH"
   },
   "outputs": [
    {
     "ename": "ValueError",
     "evalue": "invalid literal for int() with base 10: '18e259d08b6d9'",
     "output_type": "error",
     "traceback": [
      "\u001b[0;31m---------------------------------------------------------------------------\u001b[0m",
      "\u001b[0;31mValueError\u001b[0m                                Traceback (most recent call last)",
      "\u001b[0;32m<ipython-input-28-d071df6ffe29>\u001b[0m in \u001b[0;36m<module>\u001b[0;34m\u001b[0m\n\u001b[1;32m     56\u001b[0m     \u001b[0;32mreturn\u001b[0m\u001b[0;34m\u001b[0m\u001b[0;34m\u001b[0m\u001b[0m\n\u001b[1;32m     57\u001b[0m \u001b[0;34m\u001b[0m\u001b[0m\n\u001b[0;32m---> 58\u001b[0;31m \u001b[0mload_index\u001b[0m\u001b[0;34m(\u001b[0m\u001b[0;34m\"pos_index3.json\"\u001b[0m\u001b[0;34m,\u001b[0m \u001b[0;34m\"variable-byte\"\u001b[0m\u001b[0;34m)\u001b[0m\u001b[0;34m\u001b[0m\u001b[0;34m\u001b[0m\u001b[0m\n\u001b[0m",
      "\u001b[0;32m<ipython-input-28-d071df6ffe29>\u001b[0m in \u001b[0;36mload_index\u001b[0;34m(path, compression_type)\u001b[0m\n\u001b[1;32m     44\u001b[0m                 \u001b[0;32mfor\u001b[0m \u001b[0mi\u001b[0m \u001b[0;32min\u001b[0m \u001b[0mrange\u001b[0m\u001b[0;34m(\u001b[0m\u001b[0;36m4\u001b[0m\u001b[0;34m)\u001b[0m\u001b[0;34m:\u001b[0m\u001b[0;34m\u001b[0m\u001b[0;34m\u001b[0m\u001b[0m\n\u001b[1;32m     45\u001b[0m                     \u001b[0mx\u001b[0m \u001b[0;34m=\u001b[0m \u001b[0mpos_index_cp\u001b[0m\u001b[0;34m[\u001b[0m\u001b[0mterm\u001b[0m\u001b[0;34m]\u001b[0m\u001b[0;34m[\u001b[0m\u001b[0mi\u001b[0m\u001b[0;34m]\u001b[0m\u001b[0;34m\u001b[0m\u001b[0;34m\u001b[0m\u001b[0m\n\u001b[0;32m---> 46\u001b[0;31m                     \u001b[0mx\u001b[0m \u001b[0;34m=\u001b[0m \u001b[0mint\u001b[0m\u001b[0;34m(\u001b[0m\u001b[0mx\u001b[0m\u001b[0;34m)\u001b[0m\u001b[0;34m\u001b[0m\u001b[0;34m\u001b[0m\u001b[0m\n\u001b[0m\u001b[1;32m     47\u001b[0m                     \u001b[0ms\u001b[0m \u001b[0;34m=\u001b[0m \u001b[0mto_bin\u001b[0m\u001b[0;34m(\u001b[0m\u001b[0mx\u001b[0m\u001b[0;34m)\u001b[0m\u001b[0;34m\u001b[0m\u001b[0;34m\u001b[0m\u001b[0m\n\u001b[1;32m     48\u001b[0m                     \u001b[0mls\u001b[0m \u001b[0;34m=\u001b[0m \u001b[0mvb_decoding\u001b[0m\u001b[0;34m(\u001b[0m\u001b[0ms\u001b[0m\u001b[0;34m)\u001b[0m\u001b[0;34m\u001b[0m\u001b[0;34m\u001b[0m\u001b[0m\n",
      "\u001b[0;31mValueError\u001b[0m: invalid literal for int() with base 10: '18e259d08b6d9'"
     ]
    }
   ],
   "source": [
    "pos_index_cp = {}\n",
    "\n",
    "def load_index(path, compression_type):\n",
    "    global pos_index_cp\n",
    "    \"\"\"Loads the index from a file\n",
    "\n",
    "    Parameters\n",
    "    ----------\n",
    "    path : str\n",
    "        Path of the file to load from\n",
    "\n",
    "    compression_type : str\n",
    "        Could be one of the followings:\n",
    "        - no-compression\n",
    "        - gamma-code\n",
    "        - variable-byte\n",
    "    \"\"\"\n",
    "\n",
    "    \n",
    "    if compression_type == 'no-compression':   \n",
    "        with open(path, 'r') as fp:\n",
    "            pos_index_cp = json.load(fp)\n",
    "            \n",
    "    if compression_type == 'gamma-code':   \n",
    "        with open(path, 'r') as fp:\n",
    "            pos_index_cp = json.load(fp)\n",
    "            for term in pos_index_cp.keys():\n",
    "                ls_term = []\n",
    "                for i in range(4):\n",
    "                    x = pos_index_cp[term][i]\n",
    "                    s = to_bin(x)\n",
    "                    ls = gamma_decoding(to_bin(s))\n",
    "                    if i % 2 == 0:\n",
    "                        ls = remake_initial_list_using_gaps(ls)\n",
    "                    ls_term.append(ls.copy())\n",
    "                pos_index_term = remake_pos_index(ls_term)\n",
    "                pos_index_cp[term] = pos_index_term.copy()  \n",
    "                \n",
    "    if compression_type == 'variable-byte':   \n",
    "        with open(path, 'r') as fp:\n",
    "            pos_index_cp = json.load(fp)\n",
    "            for term in pos_index_cp.keys():\n",
    "                ls_term = []\n",
    "                for i in range(4):\n",
    "                    x = pos_index_cp[term][i]\n",
    "                    s = to_bin(x)\n",
    "                    ls = vb_decoding(s)\n",
    "                    if i % 2 == 0:\n",
    "                        ls = remake_initial_list_using_gaps(ls)\n",
    "                    ls_term.append(ls.copy())\n",
    "                pos_index_term = remake_pos_index(ls_term)\n",
    "                pos_index_cp[term] = pos_index_term.copy()  \n",
    "    # TODO: load and decompress positional_index\n",
    "      \n",
    "    return\n",
    "\n",
    "load_index(\"pos_index3.json\", \"variable-byte\")"
   ]
  },
  {
   "cell_type": "code",
   "execution_count": 186,
   "metadata": {},
   "outputs": [],
   "source": [
    "pos_index = pos_index_cp"
   ]
  },
  {
   "cell_type": "markdown",
   "metadata": {
    "id": "4i-iLvu2nh2k"
   },
   "source": [
    "<div dir=\"rtl\">\n",
    "<font face=\"XB Zar\" size=4>\n",
    "    <h1>\n",
    "    <b>اصلاح پرسمان (۱۵ نمره امتیازی)</b>\n",
    "    </h1>\n",
    "    در صورتی که پرسمان ورودی دارای غلط املایی باشد یا به عبارتی لغاتی از آن در لغت‌نامه موجود نباشد، لازم است که با جستجوی لغت‌های احتمالی و انتخاب بهترین لغت به ادامه‌ی جستجو با پرسمان اصلاح شده پرداخته شود. برای اینکار ابتدا باید با روش bigram و معیار jaccard نزدیک‌ترین لغات به لغت با غلط املایی را پیدا کنید. سپس با استفاده از معیار edit distance بهترین لغت را از میان آن‌ها بیابید.<br>\n",
    "    نیازی به ذخیره‌سازی و فشرده‌سازی نمایه بایگرم نیست. همچنین می‌توانید از کد آماده برای محاسبه edit distance استفاده کنید.\n",
    "</font>\n",
    "</div>"
   ]
  },
  {
   "cell_type": "code",
   "execution_count": 187,
   "metadata": {},
   "outputs": [],
   "source": [
    "keys = list(initial_words).copy()\n",
    "keys.sort()\n",
    "for i in range(len(keys)):\n",
    "    keys[i] = '$' + keys[i] + '$'"
   ]
  },
  {
   "cell_type": "code",
   "execution_count": 188,
   "metadata": {
    "id": "qMZTstsbL1G3"
   },
   "outputs": [],
   "source": [
    "def create_bigram_index():\n",
    "    \"\"\"Creates the bigram index for spell correction\"\"\"\n",
    "    bigram = {}\n",
    "    # TODO: create bigram index    \n",
    "    for key in keys:\n",
    "        key = '$' + key + '$'\n",
    "        for i in range(len(key) - 1):\n",
    "            bio = key[i:i+2]\n",
    "            if bio in bigram.keys():\n",
    "                bigram[bio].append(key)\n",
    "            else:\n",
    "                bigram[bio] = [key]\n",
    "            \n",
    "    return bigram\n",
    "\n",
    "bigram_index = create_bigram_index()\n",
    "\n",
    "# bigram_index['$s']"
   ]
  },
  {
   "cell_type": "code",
   "execution_count": 189,
   "metadata": {},
   "outputs": [
    {
     "data": {
      "text/plain": [
       "['holmes']"
      ]
     },
     "execution_count": 189,
     "metadata": {},
     "output_type": "execute_result"
    }
   ],
   "source": [
    "def jaccard(word, threshold=0.5):\n",
    "   \n",
    "    ls = []\n",
    "    set_word_bi_char = {word[i:i+2] for i in range(len(word)-1)}\n",
    "    \n",
    "    for key in keys:\n",
    "        set_key_bi_char = {key[i:i+2] for i in range(len(key)-1)}\n",
    "        intersection = set_key_bi_char.intersection(set_word_bi_char)\n",
    "        union = set_key_bi_char.union(set_word_bi_char)\n",
    "        if len(intersection) / len(union) > threshold:\n",
    "            ls.append(key[1:len(key)-1])\n",
    "            \n",
    "    if len(ls) > 20:\n",
    "        return jaccard(word, threshold+0.03)\n",
    "    return ls\n",
    "\n",
    "jaccard('holmes')"
   ]
  },
  {
   "cell_type": "code",
   "execution_count": 190,
   "metadata": {},
   "outputs": [],
   "source": [
    "def editDistance(str1, str2, m, n):\n",
    " \n",
    "    if m == 0:\n",
    "        return n\n",
    " \n",
    "    if n == 0:\n",
    "        return m\n",
    " \n",
    "    if str1[m-1] == str2[n-1]:\n",
    "        return editDistance(str1, str2, m-1, n-1)\n",
    " \n",
    "    return 1 + min(editDistance(str1, str2, m, n-1),    # Insert\n",
    "                   editDistance(str1, str2, m-1, n),    # Remove\n",
    "                   editDistance(str1, str2, m-1, n-1)    # Replace\n",
    "                   )"
   ]
  },
  {
   "cell_type": "code",
   "execution_count": 191,
   "metadata": {
    "colab": {
     "base_uri": "https://localhost:8080/",
     "height": 35
    },
    "id": "sL3E8C-nL1yG",
    "outputId": "d4da236e-728c-4419-e80e-e8a36bd4e85d"
   },
   "outputs": [
    {
     "name": "stdout",
     "output_type": "stream",
     "text": [
      "['the', 'adevntures', 'of', 'herlock', 'holmes']\n"
     ]
    },
    {
     "data": {
      "text/plain": [
       "'the adevntures of sherlock holmes'"
      ]
     },
     "execution_count": 191,
     "metadata": {},
     "output_type": "execute_result"
    }
   ],
   "source": [
    "def get_corrected_text(raw_text):\n",
    "    \"\"\"Corrects the query\n",
    "\n",
    "    Parameters\n",
    "    ----------\n",
    "    raw_text : str\n",
    "        Input text that could be a title or a plot\n",
    "\n",
    "    Returns\n",
    "    -------\n",
    "    str\n",
    "        The corrected text\n",
    "    \"\"\"\n",
    "    raw_text = raw_text.split(' ')\n",
    "    print(raw_text)\n",
    "    for i in range(len(raw_text)):\n",
    "        word = raw_text[i]\n",
    "        ls = jaccard(word)\n",
    "        max_ = 100\n",
    "        final_word = word\n",
    "        for candidate in ls:\n",
    "            if editDistance(candidate, word, len(candidate), len(word)) < max_:\n",
    "                max_ = editDistance(candidate, word, len(candidate), len(word))\n",
    "                final_word = candidate\n",
    "            \n",
    "        raw_text[i] = final_word\n",
    "    \n",
    "    corrected_text = raw_text\n",
    "    ss = corrected_text[0]\n",
    "    for i in range(1, len(corrected_text)):\n",
    "        ss = ss + \" \" + corrected_text[i] \n",
    "    return ss\n",
    "    \n",
    "get_corrected_text(\"the adevntures of herlock holmes\")"
   ]
  },
  {
   "cell_type": "markdown",
   "metadata": {
    "id": "-BWhdHJbs1zy"
   },
   "source": [
    "<div dir=\"rtl\">\n",
    "<font face=\"XB Zar\" size=4>\n",
    "    <h1>\n",
    "    <b>جستجو و بازیابی اسناد (۲۵ نمره)</b>\n",
    "    </h1>\n",
    "    در این بخش جستجو ترتیب‌دار در فضای برداری tf-idf به روش <b>lnn-ltn</b> انجام می‌شود. یک پرسمان title و یک پرسمان plot ورودی گرفته شده و هر کدام در بخش مربوطه از اسناد جستجو می‌شوند. امتیاز نهایی هر سند برابر با جمع وزن‌دار امتیاز به دست آمده از جستجو در بخش title و plot است. به این صورت که وزن plot واحد در نظر گرفته شده و وزن تایتل به عنوان ورودی داده می‌شود.<br>\n",
    "    در نهایت اسناد برتر را نمایش دهید. تعداد حداکثر اسناد برتر نیز به عنوان ورودی داده می‌شود.<br><br>\n",
    "    نکته بسیار مهم نحوه نمایش اسناد انتخابی است. برای نمایش هر سند علاوه بر استفاده از شناسه و تیتر، یک هایلایت برای آن درست کنید. به این معنا که کلمات موجود در پرسمان را که باعث انتخاب سند شده‌اند به همراه ۲-۳ ترم قبل و بعد از آن به عنوان هایلایت آن سند نمایش دهید. اینگونه کاربر می‌تواند خیلی سریع دلیل بازیابی اسناد توسط سامانه را متوجه شود. مشابه کاری که سرچ گوگل انجام می‌دهد و ۲-۳ خط مربوطه را زیر وبسایت‌های پیشنهادی نمایش می‌دهد. طبیعتا راه حل بهینه برای این‌کار استفاده از قابلیت‌های نمایه جایگاهی می‌باشد.<br>\n",
    "</font>\n",
    "</div>"
   ]
  },
  {
   "cell_type": "code",
   "execution_count": null,
   "metadata": {
    "colab": {
     "base_uri": "https://localhost:8080/"
    },
    "id": "R0R2i_O4Gev_",
    "outputId": "7f57be29-eec0-489e-dd61-74d67c923106"
   },
   "outputs": [
    {
     "data": {
      "text/plain": [
       "[[1,\n",
       "  'Call <b>wild</b>',\n",
       "  '<b>florence</b> lawrence already most <b>popular</b> among biograph '],\n",
       " [1,\n",
       "  'Call <b>wild</b>',\n",
       "  '<b>florence</b> lawrence already most <b>popular</b> among biograph '],\n",
       " [1,\n",
       "  'Call <b>wild</b>',\n",
       "  '<b>florence</b> lawrence already most <b>popular</b> among biograph ']]"
      ]
     },
     "execution_count": 59,
     "metadata": {
      "tags": []
     },
     "output_type": "execute_result"
    }
   ],
   "source": [
    "def search(title_query, plot_query, title_weight, max_result_count=10):\n",
    "    \"\"\"Finds relevant documents to query\n",
    "\n",
    "    Parameters\n",
    "    ----------\n",
    "    title_query : str\n",
    "        Query to search in titles\n",
    "\n",
    "    plot_query : str\n",
    "        Query to search in plots\n",
    "\n",
    "    title_weight : int\n",
    "        Defines the significance of title\n",
    "\n",
    "    max_result_count : int\n",
    "        Max number of retrieved documents\n",
    "    \n",
    "    Returns\n",
    "    -------\n",
    "    list\n",
    "        Retreived documents with snippet\n",
    "    \"\"\"\n",
    "\n",
    "    # TODO: implement lnc-ltc search and show results with highlight\n",
    "    doc_id = 1\n",
    "    title = \"Call <b>wild</b>\"\n",
    "    highlight = \"<b>florence</b> lawrence already most <b>popular</b> among biograph \"\n",
    "    return [\n",
    "            [doc_id, title, highlight],\n",
    "            [doc_id, title, highlight],\n",
    "            [doc_id, title, highlight],\n",
    "    ]\n",
    "\n",
    "search(\"wild\", \"Florence popular\", 10, 3)"
   ]
  },
  {
   "cell_type": "markdown",
   "metadata": {
    "id": "gBig369C6wSC"
   },
   "source": [
    "<div dir=\"rtl\">\n",
    "<font face=\"XB Zar\" size=4>\n",
    "    <h1>\n",
    "    <b>ارزیابی عملکرد سامانه (۱۰ نمره)</b>\n",
    "    </h1>\n",
    "    همانطور که در بخش مربوط به مجموعه دادگان گفته شد، تعدادی پرسمان نمونه به همراه اسناد مورد نظر برای آن‌ها در اختیار شما قرار گرفته است. در هر مورد اطلاعات لازم برای ایجاد یک پرسمان ذکر شده است. مطابق آن‌ها پرسمان خود را ایجاد کنید. نتایج به دست آمده از هر پرسمان را به عنوان predicted results آن پرسمان در نظر بگیرید. همچنین در هر مورد لیستی از شناسه‌ها وجود دارد. این لیست را به عنوان actual results در نظر بگیرید. <br>\n",
    "    معیار‌های زیر را پیاده‌سازی کنید (بدون استفاده از کد آماده) و نتیجه این معیارها را روی مجموعه‌ی actual و predicted گزارش کنید. دقت کنید که به ازای هر پرسمان باید تمام معیارها را در قالب یک جدول گزارش کنید.<br> دقت کنید که ۳ پرسمان آخر فقط برای افرادی که بخش spell correction را پیاده کرد‌ه‌اند نتیجه مطلوب دارد.\n",
    "</font>\n",
    "</div>"
   ]
  },
  {
   "cell_type": "code",
   "execution_count": null,
   "metadata": {
    "colab": {
     "base_uri": "https://localhost:8080/"
    },
    "id": "aPfEVezQIsmb",
    "outputId": "28b08705-5d4f-47e6-baec-3372f3e3293c"
   },
   "outputs": [
    {
     "data": {
      "text/plain": [
       "0.3333"
      ]
     },
     "execution_count": 70,
     "metadata": {
      "tags": []
     },
     "output_type": "execute_result"
    }
   ],
   "source": [
    "def precision(actual, predicted):\n",
    "    \"\"\"Calculate precision\n",
    "\n",
    "    Parameters\n",
    "    ----------\n",
    "    actual : list\n",
    "        [1st_doc_id, 2nd_doc_id, ...]\n",
    "\n",
    "    predicted : list\n",
    "        [1st_doc_id, 2nd_doc_id, ...]\n",
    "\n",
    "    Returns\n",
    "    -------\n",
    "    float\n",
    "        Precision score\n",
    "    \"\"\"\n",
    "\n",
    "    # TODO: implement precision\n",
    "    precision = 0.3333\n",
    "    return precision\n",
    "\n",
    "precision([1,2], [1, 4, 5])"
   ]
  },
  {
   "cell_type": "code",
   "execution_count": null,
   "metadata": {
    "colab": {
     "base_uri": "https://localhost:8080/"
    },
    "id": "is4nfSw1LQoQ",
    "outputId": "cc2a4388-464b-4d67-cb86-32617e3e526d"
   },
   "outputs": [
    {
     "data": {
      "text/plain": [
       "0.5"
      ]
     },
     "execution_count": 69,
     "metadata": {
      "tags": []
     },
     "output_type": "execute_result"
    }
   ],
   "source": [
    "def recall(actual, predicted):\n",
    "    \"\"\"Calculate recall\n",
    "\n",
    "    Parameters\n",
    "    ----------\n",
    "    actual : list\n",
    "        [1st_doc_id, 2nd_doc_id, ...]\n",
    "\n",
    "    predicted : list\n",
    "        [1st_doc_id, 2nd_doc_id, ...]\n",
    "    \n",
    "    Returns\n",
    "    -------\n",
    "    float\n",
    "        Recall score\n",
    "    \"\"\"\n",
    "\n",
    "    # TODO: implement recall\n",
    "    recall = 0.5\n",
    "    return recall\n",
    "\n",
    "recall([1,2], [1, 4, 5])"
   ]
  },
  {
   "cell_type": "code",
   "execution_count": null,
   "metadata": {
    "colab": {
     "base_uri": "https://localhost:8080/"
    },
    "id": "eYHYwRgTLVRA",
    "outputId": "d749daf0-102d-4855-e292-21dcd137d6be"
   },
   "outputs": [
    {
     "data": {
      "text/plain": [
       "0.4"
      ]
     },
     "execution_count": 68,
     "metadata": {
      "tags": []
     },
     "output_type": "execute_result"
    }
   ],
   "source": [
    "def f1_score(actual, predicted):\n",
    "    \"\"\"Calculate f1_score\n",
    "\n",
    "    Parameters\n",
    "    ----------\n",
    "    actual : list\n",
    "        [1st_doc_id, 2nd_doc_id, ...]\n",
    "\n",
    "    predicted : list\n",
    "        [1st_doc_id, 2nd_doc_id, ...]\n",
    "    \n",
    "    Returns\n",
    "    -------\n",
    "    float\n",
    "        f1_score\n",
    "    \"\"\"\n",
    "\n",
    "    # TODO: implement f1_score\n",
    "    f1_score = 0.4\n",
    "    return f1_score\n",
    "\n",
    "f1_score([1,2], [1, 4, 5])"
   ]
  },
  {
   "cell_type": "code",
   "execution_count": null,
   "metadata": {
    "colab": {
     "base_uri": "https://localhost:8080/"
    },
    "id": "bZg-_PUPLZ31",
    "outputId": "e85b9efa-3b9b-470e-8b93-f474585da6c9"
   },
   "outputs": [
    {
     "data": {
      "text/plain": [
       "0.4"
      ]
     },
     "execution_count": 67,
     "metadata": {
      "tags": []
     },
     "output_type": "execute_result"
    }
   ],
   "source": [
    "def map_score(actual, predicted):\n",
    "    \"\"\"Calculate map_score\n",
    "\n",
    "    Parameters\n",
    "    ----------\n",
    "    actual : list\n",
    "        [1st_doc_id, 2nd_doc_id, ...]\n",
    "\n",
    "    predicted : list\n",
    "        [1st_doc_id, 2nd_doc_id, ...]\n",
    "    \n",
    "    Returns\n",
    "    -------\n",
    "    float\n",
    "        map_score\n",
    "    \"\"\"\n",
    "\n",
    "    # TODO: implement map_score\n",
    "    map_score = 0.4\n",
    "    return map_score\n",
    "\n",
    "map_score([1,2], [1, 4, 5])"
   ]
  },
  {
   "cell_type": "code",
   "execution_count": null,
   "metadata": {
    "colab": {
     "base_uri": "https://localhost:8080/"
    },
    "id": "OgOKEbMNLf-r",
    "outputId": "b38f683a-7224-411b-efb4-8fe7ce4eb328"
   },
   "outputs": [
    {
     "data": {
      "text/plain": [
       "0.4"
      ]
     },
     "execution_count": 66,
     "metadata": {
      "tags": []
     },
     "output_type": "execute_result"
    }
   ],
   "source": [
    "def ndcg_score(actual, predicted):\n",
    "    \"\"\"Calculate ndcg_score\n",
    "\n",
    "    Parameters\n",
    "    ----------\n",
    "    actual : list\n",
    "        [1st_doc_id, 2nd_doc_id, ...]\n",
    "\n",
    "    predicted : list\n",
    "        [1st_doc_id, 2nd_doc_id, ...]\n",
    "    \n",
    "    Returns\n",
    "    -------\n",
    "    float\n",
    "        ndcg_score\n",
    "    \"\"\"\n",
    "\n",
    "    # TODO: implement recall\n",
    "    ndcg_score = 0.4\n",
    "    return ndcg_score\n",
    "\n",
    "ndcg_score([1,2], [1, 4, 5])"
   ]
  },
  {
   "cell_type": "markdown",
   "metadata": {
    "id": "SHVlw0kVBUW4"
   },
   "source": [
    "<div dir=\"rtl\">\n",
    "<font face=\"XB Zar\" size=4>\n",
    "    <h1>\n",
    "    <b>نکات پایانی</b>\n",
    "    </h1>\n",
    "    \n",
    "\n",
    "1.   سیستم را بهینه پیاده‌سازی کنید تا در زمان کمتری بارگذاری و نمایه‌سازی  انجام شود.\n",
    "2.   تمام قطعه‌ کدهای بالا باید توسط شما تکمیل شود. نوت‌بوک نهایی باید بدون خطا اجرا شود. اگر تمام کدهای استفاده شده در همین فایل نیست،‌ حتما آن‌ها را نیز به همراه نوت‌بوک در کوئرا آپلود کنید.\n",
    "3.    اسم توابع و نحوه ورودی گرفتن و خروجی دادن آن‌ها را تغییر ندهید. بقیه اجزای توابع صرفا برای شهود بیشتر شما نوشته شده‌اند و نیازی به نگه‌داری آن‌ها نیست.\n",
    "4.   در صورت امکان استفاده از کد آماده مشخصا این مورد برای بخش مربوطه ذکر شده است. اگر چیزی در این مورد ذکر نشده نمی‌توانید از کد آماده استفاده کنید.\n",
    "5.    فایل داده‌ها را در کوئرا آپلود نکنید.\n",
    "6.    فایل زیپ نهایی و فایل نوت‌بوک حتما به فرمت StudentNumber_phase1 نامگذاری شود.\n",
    "\n",
    "\n",
    "<b>سالم و موفق باشید.</b>\n",
    "\n",
    "</font>\n",
    "</div>"
   ]
  }
 ],
 "metadata": {
  "colab": {
   "collapsed_sections": [],
   "name": "MIR_Phase1_v1.ipynb",
   "provenance": []
  },
  "kernelspec": {
   "display_name": "Python 3",
   "language": "python",
   "name": "python3"
  },
  "language_info": {
   "codemirror_mode": {
    "name": "ipython",
    "version": 3
   },
   "file_extension": ".py",
   "mimetype": "text/x-python",
   "name": "python",
   "nbconvert_exporter": "python",
   "pygments_lexer": "ipython3",
   "version": "3.8.5"
  }
 },
 "nbformat": 4,
 "nbformat_minor": 1
}
